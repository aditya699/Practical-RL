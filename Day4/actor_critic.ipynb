{
 "cells": [
  {
   "cell_type": "code",
   "execution_count": 15,
   "id": "f4de71ce-8b1f-4202-aac8-8513b2487998",
   "metadata": {},
   "outputs": [
    {
     "name": "stdout",
     "output_type": "stream",
     "text": [
      "\u001b[33mWARNING: Running pip as the 'root' user can result in broken permissions and conflicting behaviour with the system package manager. It is recommended to use a virtual environment instead: https://pip.pypa.io/warnings/venv\u001b[0m\u001b[33m\n",
      "\u001b[0m\n",
      "\u001b[1m[\u001b[0m\u001b[34;49mnotice\u001b[0m\u001b[1;39;49m]\u001b[0m\u001b[39;49m A new release of pip is available: \u001b[0m\u001b[31;49m23.3.1\u001b[0m\u001b[39;49m -> \u001b[0m\u001b[32;49m25.1.1\u001b[0m\n",
      "\u001b[1m[\u001b[0m\u001b[34;49mnotice\u001b[0m\u001b[1;39;49m]\u001b[0m\u001b[39;49m To update, run: \u001b[0m\u001b[32;49mpython -m pip install --upgrade pip\u001b[0m\n"
     ]
    }
   ],
   "source": [
    "!pip install -q gym[classic_control] torch numpy matplotlib moviepy\n"
   ]
  },
  {
   "cell_type": "code",
   "execution_count": 17,
   "id": "d1200cd8-4748-48b2-bc84-5216a39b0a62",
   "metadata": {},
   "outputs": [
    {
     "name": "stdout",
     "output_type": "stream",
     "text": [
      "Collecting numpy==1.23.5\n",
      "  Downloading numpy-1.23.5-cp310-cp310-manylinux_2_17_x86_64.manylinux2014_x86_64.whl.metadata (2.3 kB)\n",
      "Downloading numpy-1.23.5-cp310-cp310-manylinux_2_17_x86_64.manylinux2014_x86_64.whl (17.1 MB)\n",
      "\u001b[2K   \u001b[90m━━━━━━━━━━━━━━━━━━━━━━━━━━━━━━━━━━━━━━━━\u001b[0m \u001b[32m17.1/17.1 MB\u001b[0m \u001b[31m93.9 MB/s\u001b[0m eta \u001b[36m0:00:00\u001b[0m:00:01\u001b[0m00:01\u001b[0m\n",
      "\u001b[?25hInstalling collected packages: numpy\n",
      "  Attempting uninstall: numpy\n",
      "    Found existing installation: numpy 2.2.6\n",
      "    Uninstalling numpy-2.2.6:\n",
      "      Successfully uninstalled numpy-2.2.6\n",
      "\u001b[31mERROR: pip's dependency resolver does not currently take into account all the packages that are installed. This behaviour is the source of the following dependency conflicts.\n",
      "moviepy 2.2.1 requires numpy>=1.25.0, but you have numpy 1.23.5 which is incompatible.\u001b[0m\u001b[31m\n",
      "\u001b[0mSuccessfully installed numpy-1.23.5\n",
      "\u001b[33mWARNING: Running pip as the 'root' user can result in broken permissions and conflicting behaviour with the system package manager. It is recommended to use a virtual environment instead: https://pip.pypa.io/warnings/venv\u001b[0m\u001b[33m\n",
      "\u001b[0m\n",
      "\u001b[1m[\u001b[0m\u001b[34;49mnotice\u001b[0m\u001b[1;39;49m]\u001b[0m\u001b[39;49m A new release of pip is available: \u001b[0m\u001b[31;49m23.3.1\u001b[0m\u001b[39;49m -> \u001b[0m\u001b[32;49m25.1.1\u001b[0m\n",
      "\u001b[1m[\u001b[0m\u001b[34;49mnotice\u001b[0m\u001b[1;39;49m]\u001b[0m\u001b[39;49m To update, run: \u001b[0m\u001b[32;49mpython -m pip install --upgrade pip\u001b[0m\n"
     ]
    }
   ],
   "source": [
    "!pip install numpy==1.23.5 --upgrade --force-reinstall"
   ]
  },
  {
   "cell_type": "code",
   "execution_count": 18,
   "id": "e7e3706e-d9bc-4c21-8332-d899142fa0be",
   "metadata": {},
   "outputs": [
    {
     "name": "stdout",
     "output_type": "stream",
     "text": [
      "Requirement already satisfied: imageio in /usr/local/lib/python3.10/dist-packages (2.37.0)\n",
      "Requirement already satisfied: imageio-ffmpeg in /usr/local/lib/python3.10/dist-packages (0.6.0)\n",
      "Requirement already satisfied: numpy in /usr/local/lib/python3.10/dist-packages (from imageio) (1.23.5)\n",
      "Requirement already satisfied: pillow>=8.3.2 in /usr/local/lib/python3.10/dist-packages (from imageio) (9.3.0)\n",
      "\u001b[33mWARNING: Running pip as the 'root' user can result in broken permissions and conflicting behaviour with the system package manager. It is recommended to use a virtual environment instead: https://pip.pypa.io/warnings/venv\u001b[0m\u001b[33m\n",
      "\u001b[0m\n",
      "\u001b[1m[\u001b[0m\u001b[34;49mnotice\u001b[0m\u001b[1;39;49m]\u001b[0m\u001b[39;49m A new release of pip is available: \u001b[0m\u001b[31;49m23.3.1\u001b[0m\u001b[39;49m -> \u001b[0m\u001b[32;49m25.1.1\u001b[0m\n",
      "\u001b[1m[\u001b[0m\u001b[34;49mnotice\u001b[0m\u001b[1;39;49m]\u001b[0m\u001b[39;49m To update, run: \u001b[0m\u001b[32;49mpython -m pip install --upgrade pip\u001b[0m\n"
     ]
    }
   ],
   "source": [
    "!pip install imageio imageio-ffmpeg\n"
   ]
  },
  {
   "cell_type": "markdown",
   "id": "b5db3795-87b4-495f-9060-16c23b92e71a",
   "metadata": {},
   "source": [
    "# Load the environment"
   ]
  },
  {
   "cell_type": "code",
   "execution_count": 4,
   "id": "161d15dd-9920-4fbb-899c-2e6f9cff463d",
   "metadata": {},
   "outputs": [
    {
     "name": "stdout",
     "output_type": "stream",
     "text": [
      "Using device: cuda\n",
      "4\n",
      "2\n"
     ]
    }
   ],
   "source": [
    "import gym\n",
    "import torch\n",
    "import torch.nn as nn\n",
    "import torch.optim as optim\n",
    "import numpy as np\n",
    "\n",
    "# ✅ Set device to GPU if available\n",
    "device = torch.device(\"cuda\" if torch.cuda.is_available() else \"cpu\")\n",
    "print(\"Using device:\", device)\n",
    "\n",
    "# 🎮 Initialize environment\n",
    "env = gym.make(\"CartPole-v1\")\n",
    "\n",
    "state_dim = env.observation_space.shape[0]  # 4\n",
    "action_dim = env.action_space.n             # 2\n",
    "print(state_dim)\n",
    "print(action_dim)"
   ]
  },
  {
   "cell_type": "markdown",
   "id": "ca86826a-c7da-4475-954f-38f6a939b9de",
   "metadata": {},
   "source": [
    "# Define a network"
   ]
  },
  {
   "cell_type": "code",
   "execution_count": null,
   "id": "9eef6192-4b97-464c-8f6a-20f776f2caaf",
   "metadata": {},
   "outputs": [
    {
     "name": "stdout",
     "output_type": "stream",
     "text": [
      "Episode 10, Reward: 24.00\n",
      "Episode 20, Reward: 32.00\n",
      "Episode 30, Reward: 18.00\n",
      "Episode 40, Reward: 9.00\n",
      "Episode 50, Reward: 25.00\n",
      "Episode 60, Reward: 23.00\n",
      "Episode 70, Reward: 24.00\n",
      "Episode 80, Reward: 15.00\n",
      "Episode 90, Reward: 22.00\n",
      "Episode 100, Reward: 21.00\n",
      "Episode 110, Reward: 14.00\n",
      "Episode 120, Reward: 78.00\n",
      "Episode 130, Reward: 16.00\n",
      "Episode 140, Reward: 56.00\n",
      "Episode 150, Reward: 32.00\n",
      "Episode 160, Reward: 22.00\n",
      "Episode 170, Reward: 23.00\n",
      "Episode 180, Reward: 50.00\n",
      "Episode 190, Reward: 25.00\n",
      "Episode 200, Reward: 42.00\n",
      "Episode 210, Reward: 34.00\n",
      "Episode 220, Reward: 40.00\n",
      "Episode 230, Reward: 16.00\n",
      "Episode 240, Reward: 49.00\n",
      "Episode 250, Reward: 34.00\n",
      "Episode 260, Reward: 58.00\n",
      "Episode 270, Reward: 77.00\n",
      "Episode 280, Reward: 20.00\n",
      "Episode 290, Reward: 58.00\n",
      "Episode 300, Reward: 26.00\n",
      "Episode 310, Reward: 28.00\n",
      "Episode 320, Reward: 49.00\n",
      "Episode 330, Reward: 72.00\n",
      "Episode 340, Reward: 30.00\n",
      "Episode 350, Reward: 38.00\n",
      "Episode 360, Reward: 35.00\n",
      "Episode 370, Reward: 62.00\n",
      "Episode 380, Reward: 26.00\n",
      "Episode 390, Reward: 37.00\n",
      "Episode 400, Reward: 65.00\n",
      "Episode 410, Reward: 42.00\n",
      "Episode 420, Reward: 52.00\n",
      "Episode 430, Reward: 89.00\n",
      "Episode 440, Reward: 56.00\n",
      "Episode 450, Reward: 91.00\n",
      "Episode 460, Reward: 45.00\n",
      "Episode 470, Reward: 34.00\n",
      "Episode 480, Reward: 31.00\n",
      "Episode 490, Reward: 73.00\n",
      "Episode 500, Reward: 100.00\n",
      "Episode 510, Reward: 78.00\n",
      "Episode 520, Reward: 68.00\n",
      "Episode 530, Reward: 209.00\n",
      "Episode 540, Reward: 56.00\n",
      "Episode 550, Reward: 65.00\n",
      "Episode 560, Reward: 54.00\n",
      "Episode 570, Reward: 88.00\n",
      "Episode 580, Reward: 103.00\n",
      "Episode 590, Reward: 43.00\n",
      "Episode 600, Reward: 67.00\n",
      "Episode 610, Reward: 101.00\n",
      "Episode 620, Reward: 66.00\n",
      "Episode 630, Reward: 137.00\n",
      "Episode 640, Reward: 139.00\n",
      "Episode 650, Reward: 73.00\n",
      "Episode 660, Reward: 83.00\n",
      "Episode 670, Reward: 120.00\n",
      "Episode 680, Reward: 178.00\n",
      "Episode 690, Reward: 45.00\n",
      "Episode 700, Reward: 145.00\n",
      "Episode 710, Reward: 123.00\n",
      "Episode 720, Reward: 107.00\n"
     ]
    },
    {
     "name": "stderr",
     "output_type": "stream",
     "text": [
      "Exception ignored in: <function VideoRecorder.__del__ at 0x77a8bab24b80>\n",
      "Traceback (most recent call last):\n",
      "  File \"/usr/local/lib/python3.10/dist-packages/gym/wrappers/monitoring/video_recorder.py\", line 178, in __del__\n",
      "    self.close()\n",
      "  File \"/usr/local/lib/python3.10/dist-packages/gym/wrappers/monitoring/video_recorder.py\", line 141, in close\n",
      "    if not self.enabled or self._closed:\n",
      "AttributeError: 'VideoRecorder' object has no attribute 'enabled'\n"
     ]
    },
    {
     "name": "stdout",
     "output_type": "stream",
     "text": [
      "Episode 730, Reward: 56.00\n",
      "Episode 740, Reward: 123.00\n",
      "Episode 750, Reward: 59.00\n"
     ]
    }
   ],
   "source": [
    "import gym\n",
    "import torch\n",
    "import torch.nn as nn\n",
    "import torch.nn.functional as F\n",
    "import torch.optim as optim\n",
    "import matplotlib.pyplot as plt\n",
    "\n",
    "# Device setup\n",
    "device = torch.device(\"cuda\" if torch.cuda.is_available() else \"cpu\")\n",
    "env = gym.make(\"CartPole-v1\")\n",
    "state_dim = env.observation_space.shape[0]\n",
    "action_dim = env.action_space.n\n",
    "\n",
    "# Layers\n",
    "W_shared = nn.Linear(state_dim, 128).to(device)\n",
    "W_policy = nn.Linear(128, action_dim).to(device)\n",
    "W_value = nn.Linear(128, 1).to(device)\n",
    "\n",
    "# Optimizer\n",
    "optimizer = optim.Adam(list(W_shared.parameters()) +\n",
    "                       list(W_policy.parameters()) +\n",
    "                       list(W_value.parameters()), lr=1e-3)\n",
    "\n",
    "# Hyperparameters\n",
    "gamma = 0.99\n",
    "episodes = 1000\n",
    "episode_rewards = []\n",
    "\n",
    "for episode in range(episodes):\n",
    "    state, _ = env.reset()\n",
    "    done = False\n",
    "\n",
    "    log_probs = []\n",
    "    values = []\n",
    "    rewards = []\n",
    "\n",
    "    while not done:\n",
    "        state_tensor = torch.tensor(state, dtype=torch.float32).unsqueeze(0).to(device)\n",
    "\n",
    "        # Forward pass\n",
    "        x = F.relu(W_shared(state_tensor))\n",
    "        logits = W_policy(x)\n",
    "        probs = F.softmax(logits, dim=-1)\n",
    "        value = W_value(x)\n",
    "\n",
    "        dist = torch.distributions.Categorical(probs)\n",
    "        action = dist.sample()\n",
    "        log_prob = dist.log_prob(action)\n",
    "\n",
    "        next_state, reward, terminated, truncated, _ = env.step(action.item())\n",
    "        done = terminated or truncated\n",
    "\n",
    "        # Store\n",
    "        log_probs.append(log_prob)\n",
    "        values.append(value)\n",
    "        rewards.append(reward)\n",
    "\n",
    "        state = next_state\n",
    "\n",
    "    # Compute returns\n",
    "    returns = []\n",
    "    G = 0\n",
    "    for r in reversed(rewards):\n",
    "        G = r + gamma * G\n",
    "        returns.insert(0, G)\n",
    "\n",
    "    returns = torch.tensor(returns, dtype=torch.float32).to(device)\n",
    "    values = torch.cat(values)\n",
    "    log_probs = torch.stack(log_probs)\n",
    "    advantage = returns - values.squeeze()\n",
    "\n",
    "    # Losses\n",
    "    actor_loss = -(log_probs * advantage.detach()).mean()\n",
    "    critic_loss = advantage.pow(2).mean()\n",
    "    loss = actor_loss + 0.5 * critic_loss\n",
    "\n",
    "    optimizer.zero_grad()\n",
    "    loss.backward()\n",
    "    optimizer.step()\n",
    "\n",
    "    total_reward = sum(rewards)\n",
    "    episode_rewards.append(total_reward)\n",
    "\n",
    "    if (episode + 1) % 10 == 0:\n",
    "        print(f\"Episode {episode+1}, Reward: {total_reward:.2f}\")\n",
    "\n",
    "# Plot results\n",
    "plt.plot(episode_rewards)\n",
    "plt.xlabel(\"Episode\")\n",
    "plt.ylabel(\"Total Reward\")\n",
    "plt.title(\"Actor-Critic on CartPole-v1\")\n",
    "plt.grid(True)\n",
    "plt.show()\n"
   ]
  },
  {
   "cell_type": "code",
   "execution_count": null,
   "id": "5819a1e2-bc8d-4502-a5e0-e9db0105524f",
   "metadata": {},
   "outputs": [],
   "source": []
  }
 ],
 "metadata": {
  "kernelspec": {
   "display_name": "Python 3 (ipykernel)",
   "language": "python",
   "name": "python3"
  },
  "language_info": {
   "codemirror_mode": {
    "name": "ipython",
    "version": 3
   },
   "file_extension": ".py",
   "mimetype": "text/x-python",
   "name": "python",
   "nbconvert_exporter": "python",
   "pygments_lexer": "ipython3",
   "version": "3.10.12"
  }
 },
 "nbformat": 4,
 "nbformat_minor": 5
}
